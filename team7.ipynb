{
 "cells": [
  {
   "cell_type": "code",
   "execution_count": 1,
   "id": "63c459d5",
   "metadata": {},
   "outputs": [
    {
     "name": "stdout",
     "output_type": "stream",
     "text": [
      "Starting Spark application\n"
     ]
    },
    {
     "data": {
      "text/html": [
       "<table>\n",
       "<tr><th>ID</th><th>YARN Application ID</th><th>Kind</th><th>State</th><th>Spark UI</th><th>Driver log</th><th>User</th><th>Current session?</th></tr><tr><td>0</td><td>application_1740045843613_0001</td><td>pyspark</td><td>idle</td><td><a target=\"_blank\" href=\"http://ip-10-0-8-101.ec2.internal:20888/proxy/application_1740045843613_0001/\">Link</a></td><td><a target=\"_blank\" href=\"http://ip-10-0-15-109.ec2.internal:8042/node/containerlogs/container_1740045843613_0001_01_000001/livy\">Link</a></td><td>None</td><td>✔</td></tr></table>"
      ],
      "text/plain": [
       "<IPython.core.display.HTML object>"
      ]
     },
     "metadata": {},
     "output_type": "display_data"
    },
    {
     "data": {
      "application/vnd.jupyter.widget-view+json": {
       "model_id": "",
       "version_major": 2,
       "version_minor": 0
      },
      "text/plain": [
       "FloatProgress(value=0.0, bar_style='info', description='Progress:', layout=Layout(height='25px', width='50%'),…"
      ]
     },
     "metadata": {},
     "output_type": "display_data"
    },
    {
     "name": "stdout",
     "output_type": "stream",
     "text": [
      "SparkSession available as 'spark'.\n"
     ]
    },
    {
     "data": {
      "application/vnd.jupyter.widget-view+json": {
       "model_id": "",
       "version_major": 2,
       "version_minor": 0
      },
      "text/plain": [
       "FloatProgress(value=0.0, bar_style='info', description='Progress:', layout=Layout(height='25px', width='50%'),…"
      ]
     },
     "metadata": {},
     "output_type": "display_data"
    },
    {
     "name": "stdout",
     "output_type": "stream",
     "text": [
      "<pyspark.sql.session.SparkSession object at 0x7f4b5468deb0>"
     ]
    }
   ],
   "source": [
    "spark"
   ]
  },
  {
   "cell_type": "code",
   "execution_count": 3,
   "id": "9a5b9cb9",
   "metadata": {},
   "outputs": [
    {
     "data": {
      "application/vnd.jupyter.widget-view+json": {
       "model_id": "",
       "version_major": 2,
       "version_minor": 0
      },
      "text/plain": [
       "FloatProgress(value=0.0, bar_style='info', description='Progress:', layout=Layout(height='25px', width='50%'),…"
      ]
     },
     "metadata": {},
     "output_type": "display_data"
    }
   ],
   "source": [
    "df = spark.read.csv(\"hdfs:///team7/Final_dummy_data.csv\",header=True,inferSchema=True)"
   ]
  },
  {
   "cell_type": "code",
   "execution_count": 4,
   "id": "aad5dd6d",
   "metadata": {},
   "outputs": [
    {
     "data": {
      "application/vnd.jupyter.widget-view+json": {
       "model_id": "",
       "version_major": 2,
       "version_minor": 0
      },
      "text/plain": [
       "FloatProgress(value=0.0, bar_style='info', description='Progress:', layout=Layout(height='25px', width='50%'),…"
      ]
     },
     "metadata": {},
     "output_type": "display_data"
    },
    {
     "name": "stdout",
     "output_type": "stream",
     "text": [
      "+------+--------------------+---+-----------------+-------+-------+--------------------+-------------------+------+---------+-------------------+--------------+------------+----+-----+--------+----+--------+---------+----------+\n",
      "|custId|            custName|age|             city|zipCode|orderId|            tranDate|            cardNum|prodId| prodCate|           prodName|     prodColor|       brand|size|quant|starRate| mrp|discount|sellPrice|tranAmount|\n",
      "+------+--------------------+---+-----------------+-------+-------+--------------------+-------------------+------+---------+-------------------+--------------+------------+----+-----+--------+----+--------+---------+----------+\n",
      "|  2701| Christopher Russell| 48|      West Rachel|  29265|     80|2024-08-12 03:45:...|   4086897196037608|   301|     Tops|      Cotton Briefs|         Wheat|       Gucci|  XL|    3|       1|3405|       4|   3268.8|    9806.4|\n",
      "|  1957|     Ashley Cardenas| 31|East Stephenshire|  31114|    215|2024-04-15 14:32:...|   2277835069450501|   369|  Dresses|       Flared Skirt|  MidnightBlue|Under Armour|   M|    7|       1|2848|       3|  2762.56|  19337.92|\n",
      "|  1064|      Karen Williams| 63|      Rossborough|  14019|    407|2024-06-06 13:38:...|4524216427611479841|   114|     Tops|             Blazer| DarkTurquoise|      Levi's|   S|    8|       1|1132|       3|  1098.04|   8784.32|\n",
      "|   350|        Haley Morris| 51|    North Lindsey|  68763|    154|2024-03-11 16:38:...|   3512644288426323|   172|  Dresses|        Trench Coat|MediumSeaGreen|       Prada|   S|    2|       5|1465|       3|  1421.05|    2842.1|\n",
      "|   371|    Stephanie Austin| 40|        Jonesbury|   3312|    125|2025-01-09 20:35:...|        60460178381|   498| Lingerie|             Blazer|         Linen|Under Armour|   L|    4|       2|2877|       3|  2790.69|  11162.76|\n",
      "|  2966|      Lauren Edwards| 67|      New Kenneth|  65650|    197|2024-06-23 15:42:...|   4886921645797406|   485|Outerwear|Off-shoulder Blouse|     Turquoise|       Prada|   L|    9|       1| 753|       2|   737.94|   6641.46|\n",
      "|  4725|    Michael Reynolds| 70|     East Richard|  74272|    138|2024-08-01 14:51:...|4962981996465636636|   428|  Bottoms|     Cotton T-Shirt|    DodgerBlue|        Zara| XXL|    3|       3|1436|       3|  1392.92|   4178.76|\n",
      "|  1377|        Troy Daniels| 62| West Rhondaburgh|   5077|    275|2024-04-02 17:33:...|   3508622504578867|   475| Lingerie|     Cotton T-Shirt| DarkSlateBlue|       Prada|   M|   10|       3|1930|       3|   1872.1|   18721.0|\n",
      "|  1403|         Walter Long| 34|    Port Kimberly|  85559|    389|2024-07-12 20:28:...|   4341572735446161|   168|Outerwear|        Chiffon Top| DarkTurquoise|Under Armour|   M|    9|       1|1395|       3|  1353.15|  12178.35|\n",
      "|  2256|       Sherri Wright| 57|      Francisfurt|  33740|    442|2024-06-11 20:08:...|   4438930148646310|   144|Outerwear|        Puffer Coat|     SlateGray|      Reebok| XXL|    2|       3| 941|       2|   922.18|   1844.36|\n",
      "|  1683|     Wayne Sutton MD| 21| West Shannontown|  59450|     75|2024-10-24 22:25:...|   4236550986481705|   243|Outerwear|       Denim Shorts|         Ivory|Under Armour|   S|    1|       4|2102|       3|  2038.94|   2038.94|\n",
      "|   852|Jessica Mcdonald DDS| 19|        Jasontown|  45924|    111|2024-09-28 23:32:...|   3568383256257930|   330|Outerwear|  Tailored Trousers|     GoldenRod|Under Armour|  XS|   10|       3|1694|       3|  1643.18|   16431.8|\n",
      "|  4896|   Christopher Mason| 49|      Port Amanda|  56223|    162|2024-10-27 23:31:...|4157108074840802805|   290|     Tops|       Pencil Skirt|      DeepPink|       Gucci|   L|    7|       2| 983|       2|   963.34|   6743.38|\n",
      "|  3718|       Derek Perkins| 36|  Port Brentburgh|  21531|     34|2024-12-30 07:12:...|   2398678320823585|   275|  Bottoms|      Leather Pants|     LightGray|       Gucci|  XL|    5|       4|1583|       3|  1535.51|   7677.55|\n",
      "|  4839|          Adam Russo| 32|     North Amanda|  23202|      3|2024-06-12 04:28:...|    378952045836471|   474|     Tops|       Pencil Skirt|     Gainsboro|      Levi's|   S|    8|       2|1219|       3|  1182.43|   9459.44|\n",
      "|  1813|     Isabella Keller| 53|     Skinnermouth|  77226|    407|2024-07-09 00:57:...|4286800485760882197|   199|  Dresses|            Peacoat|     SlateBlue|        Puma|   L|    6|       3|2745|       3|  2662.65|   15975.9|\n",
      "|  2988|          Lisa Smith| 57| East Rebeccaside|  41481|    447|2024-06-12 03:05:...|      4304183985474|   311| Lingerie|        Shift Dress|     PeachPuff|       Prada| XXL|   10|       3|2653|       3|  2573.41|   25734.1|\n",
      "|  3330|        Rebecca King| 70|  Jonathanborough|  52170|    199|2024-02-25 02:19:...|     30268390354576|   186|     Tops|Off-shoulder Blouse|     LightBlue|      Reebok|   L|   10|       5|2469|       3|  2394.93|   23949.3|\n",
      "|   842|        Michael Snow| 17|         Lanetown|  66814|    325|2024-11-12 02:29:...|   6011174237877821|   486|Outerwear|        Chiffon Top| DarkSlateGray|      Reebok|  XS|    8|       3|2787|       3|  2703.39|  21627.12|\n",
      "|  1468|       Paige Mcmahon| 60|West Williammouth|  17803|    280|2024-11-09 01:11:...|    180064358131967|   322|     Tops|         Wrap Dress|      Moccasin|        Puma|   M|    4|       3|1378|       3|  1336.66|   5346.64|\n",
      "+------+--------------------+---+-----------------+-------+-------+--------------------+-------------------+------+---------+-------------------+--------------+------------+----+-----+--------+----+--------+---------+----------+\n",
      "only showing top 20 rows"
     ]
    }
   ],
   "source": [
    "df.show()"
   ]
  },
  {
   "cell_type": "code",
   "execution_count": null,
   "id": "d985d98f",
   "metadata": {},
   "outputs": [],
   "source": []
  }
 ],
 "metadata": {
  "kernelspec": {
   "display_name": "PySpark",
   "language": "python",
   "name": "pysparkkernel"
  },
  "language_info": {
   "codemirror_mode": {
    "name": "python",
    "version": 3
   },
   "file_extension": ".py",
   "mimetype": "text/x-python",
   "name": "pyspark",
   "pygments_lexer": "python3"
  }
 },
 "nbformat": 4,
 "nbformat_minor": 5
}
