{
 "cells": [
  {
   "cell_type": "code",
   "execution_count": 1,
   "id": "a6cffaeb",
   "metadata": {},
   "outputs": [
    {
     "name": "stdout",
     "output_type": "stream",
     "text": [
      "Starting Spark application\n"
     ]
    },
    {
     "data": {
      "text/html": [
       "<table>\n",
       "<tr><th>ID</th><th>YARN Application ID</th><th>Kind</th><th>State</th><th>Spark UI</th><th>Driver log</th><th>User</th><th>Current session?</th></tr><tr><td>0</td><td>application_1739804344010_0001</td><td>pyspark</td><td>idle</td><td><a target=\"_blank\" href=\"http://ip-10-0-11-11.ec2.internal:20888/proxy/application_1739804344010_0001/\">Link</a></td><td><a target=\"_blank\" href=\"http://ip-10-0-13-96.ec2.internal:8042/node/containerlogs/container_1739804344010_0001_01_000001/livy\">Link</a></td><td>None</td><td>✔</td></tr></table>"
      ],
      "text/plain": [
       "<IPython.core.display.HTML object>"
      ]
     },
     "metadata": {},
     "output_type": "display_data"
    },
    {
     "data": {
      "application/vnd.jupyter.widget-view+json": {
       "model_id": "",
       "version_major": 2,
       "version_minor": 0
      },
      "text/plain": [
       "FloatProgress(value=0.0, bar_style='info', description='Progress:', layout=Layout(height='25px', width='50%'),…"
      ]
     },
     "metadata": {},
     "output_type": "display_data"
    },
    {
     "name": "stdout",
     "output_type": "stream",
     "text": [
      "SparkSession available as 'spark'.\n"
     ]
    },
    {
     "data": {
      "application/vnd.jupyter.widget-view+json": {
       "model_id": "",
       "version_major": 2,
       "version_minor": 0
      },
      "text/plain": [
       "FloatProgress(value=0.0, bar_style='info', description='Progress:', layout=Layout(height='25px', width='50%'),…"
      ]
     },
     "metadata": {},
     "output_type": "display_data"
    },
    {
     "name": "stdout",
     "output_type": "stream",
     "text": [
      "<pyspark.sql.session.SparkSession object at 0x7f285c650eb0>"
     ]
    }
   ],
   "source": [
    "spark"
   ]
  },
  {
   "cell_type": "code",
   "execution_count": 5,
   "id": "702b70bd",
   "metadata": {},
   "outputs": [
    {
     "data": {
      "application/vnd.jupyter.widget-view+json": {
       "model_id": "",
       "version_major": 2,
       "version_minor": 0
      },
      "text/plain": [
       "FloatProgress(value=0.0, bar_style='info', description='Progress:', layout=Layout(height='25px', width='50%'),…"
      ]
     },
     "metadata": {},
     "output_type": "display_data"
    }
   ],
   "source": [
    "df = spark.read.csv(\"hdfs:///team7/dummy_data.csv\",header=True,inferSchema=True)"
   ]
  },
  {
   "cell_type": "code",
   "execution_count": 6,
   "id": "d218c0d0",
   "metadata": {},
   "outputs": [
    {
     "data": {
      "application/vnd.jupyter.widget-view+json": {
       "model_id": "",
       "version_major": 2,
       "version_minor": 0
      },
      "text/plain": [
       "FloatProgress(value=0.0, bar_style='info', description='Progress:', layout=Layout(height='25px', width='50%'),…"
      ]
     },
     "metadata": {},
     "output_type": "display_data"
    },
    {
     "name": "stdout",
     "output_type": "stream",
     "text": [
      "+------+-----------------+---+----------------+-------+-------+--------------------+-------------------+------+---------+--------------+------------+----+-----+--------+----+--------+---------+----------+\n",
      "|custId|         custName|age|            city|zipCode|orderId|            tranDate|            cardNum|prodId| prodCate|     prodColor|       brand|size|quant|starRate| mrp|discount|sellPrice|tranAmount|\n",
      "+------+-----------------+---+----------------+-------+-------+--------------------+-------------------+------+---------+--------------+------------+----+-----+--------+----+--------+---------+----------+\n",
      "|  1920|      Julie Berry| 18|       Riosmouth|  48095|    425|2024-03-07 13:53:...|    342318551529574|   119|  Bottoms|          Aqua|        Zara| XXL|   10|       3|2003|       3|  1942.91|   19429.1|\n",
      "|  1138|     Rachel Jones| 25|       West Leah|  67706|    393|2024-11-02 02:48:...|    213102378647892|   229|  Dresses|     LightGray|      Levi's|   L|    9|       4| 623|       2|   610.54|   5494.86|\n",
      "|  4362|  Michael Parsons| 18|       Lake Tina|  91635|    296|2024-08-10 12:43:...|   3504269441742950|   160|  Dresses|          Peru|       Gucci|   M|    2|       4|1143|       3|  1108.71|   2217.42|\n",
      "|  1529|    Kara Thompson| 66|       Graceside|  63801|     87|2024-10-05 06:56:...|       584361292991|   252|Outerwear|        Yellow|        Puma|   M|    3|       3|1985|       3|  1925.45|   5776.35|\n",
      "|    53|Christian Walters| 58|      New Lonnie|  75370|    479|2024-05-28 01:05:...|4194822547520172969|   214|     Tops|         Ivory|      Adidas|   L|    2|       1|1927|       3|  1869.19|   3738.38|\n",
      "|  1506|      Anna Jordan| 55|South Stacyburgh|  66426|    495|2024-05-27 11:49:...|   4221740733916346|   386| Lingerie|     LightBlue|      Levi's|   L|   10|       3|1515|       3|  1469.55|   14695.5|\n",
      "|  2150|       David Hunt| 62| West Lonniestad|  97676|    182|2024-06-29 18:02:...|4691013641544713835|   220| Lingerie|     AliceBlue|        Zara| XXL|    5|       2|1599|       3|  1551.03|   7755.15|\n",
      "|  4406|      Juan Arnold| 38|       Allenfurt|  14185|    452|2024-10-03 00:50:...|   2297807564710495|   419|  Bottoms|  MediumOrchid|         H&M| XXL|    6|       2|1532|       3|  1486.04|   8916.24|\n",
      "|   104|    Jared Pearson| 63|      Tuckerside|  49338|    295|2024-12-25 16:50:...|     30013324523791|   469| Lingerie|     Gainsboro|        Puma| XXL|    1|       2|2591|       3|  2513.27|   2513.27|\n",
      "|   477|    Rachel Larson| 33|West Melissaport|  38005|     93|2024-10-29 07:09:...|    180071736365191|   276| Lingerie| PaleVioletRed|Under Armour|   L|    1|       1|1960|       3|   1901.2|    1901.2|\n",
      "|  1709|     Sherry Kelly| 63|      Lake Mason|  72959|    299|2024-11-24 13:02:...|4432597289729171768|   291| Lingerie|         Wheat|        Zara| XXL|    1|       3|2787|       3|  2703.39|   2703.39|\n",
      "|  4062|      Teresa Bell| 58|     Morganshire|  70676|    260|2024-03-19 08:02:...|4643450744596577339|   327|  Bottoms|     BurlyWood|      Adidas|  XL|    6|       2| 598|       2|   586.04|   3516.24|\n",
      "|  1315|      Morgan Cole| 66|South Andrewberg|  12143|    276|2025-02-05 12:12:...|4563922997908830487|   319| Lingerie|    DarkViolet|        Puma| XXL|    4|       3|2808|       3|  2723.76|  10895.04|\n",
      "|  1311|       David Carr| 64|  South Margaret|   8208|    257|2024-10-23 08:23:...|    213192861860888|   150|  Dresses|CornflowerBlue|       Prada|   L|    1|       1|1483|       3|  1438.51|   1438.51|\n",
      "|  3317|   Lauren Johnson| 62|      Thomasfort|  80729|    473|2024-07-26 08:34:...|     30383454367750|   454|     Tops|         Khaki|         H&M|   L|    6|       4|1257|       3|  1219.29|   7315.74|\n",
      "|  2071|   Catherine Lang| 49|   South Anthony|  22562|    323|2025-01-31 10:54:...|   4711750778820128|   317| Lingerie|     LawnGreen|       Prada|  XS|    6|       5|2238|       3|  2170.86|  13025.16|\n",
      "|   290|   Melissa Foster| 20|    New Benjamin|  19456|    194|2024-07-29 01:31:...|   4813460400152364|   306|  Dresses|         Linen|         H&M| XXL|   10|       2|3059|       4|  2936.64|   29366.4|\n",
      "|  3466|   Carrie Chapman| 37|        Johnberg|  73243|    287|2025-01-04 08:53:...|   2269634474545645|   491| Lingerie|    DarkViolet|      Adidas|   M|    7|       2|1739|       3|  1686.83|  11807.81|\n",
      "|  4541|    John Randolph| 21|      Cherylstad|  63618|     42|2024-10-03 02:23:...|    379658581205455|   340|  Dresses|        Bisque|        Puma|  XL|    1|       1| 949|       2|   930.02|    930.02|\n",
      "|  1905|      Paula Gomez| 49|   North Gabriel|  60232|    336|2024-11-13 15:15:...|   6522100386501302|   118|     Tops|          Peru|        Puma|   S|   10|       2|3578|       4|  3434.88|   34348.8|\n",
      "+------+-----------------+---+----------------+-------+-------+--------------------+-------------------+------+---------+--------------+------------+----+-----+--------+----+--------+---------+----------+\n",
      "only showing top 20 rows"
     ]
    }
   ],
   "source": [
    "df.show()"
   ]
  },
  {
   "cell_type": "code",
   "execution_count": null,
   "id": "87f8f1e2",
   "metadata": {},
   "outputs": [],
   "source": []
  }
 ],
 "metadata": {
  "kernelspec": {
   "display_name": "PySpark",
   "language": "python",
   "name": "pysparkkernel"
  },
  "language_info": {
   "codemirror_mode": {
    "name": "python",
    "version": 3
   },
   "file_extension": ".py",
   "mimetype": "text/x-python",
   "name": "pyspark",
   "pygments_lexer": "python3"
  }
 },
 "nbformat": 4,
 "nbformat_minor": 5
}
